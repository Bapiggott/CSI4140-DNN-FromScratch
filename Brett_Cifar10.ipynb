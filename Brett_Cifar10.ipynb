{
  "nbformat": 4,
  "nbformat_minor": 0,
  "metadata": {
    "colab": {
      "provenance": [],
      "gpuType": "T4",
      "include_colab_link": true
    },
    "kernelspec": {
      "name": "python3",
      "display_name": "Python 3"
    },
    "language_info": {
      "name": "python"
    },
    "accelerator": "GPU"
  },
  "cells": [
    {
      "cell_type": "markdown",
      "metadata": {
        "id": "view-in-github",
        "colab_type": "text"
      },
      "source": [
        "<a href=\"https://colab.research.google.com/github/Bapiggott/CSI4140-DNN-FromScratch/blob/main/Brett_Cifar10.ipynb\" target=\"_parent\"><img src=\"https://colab.research.google.com/assets/colab-badge.svg\" alt=\"Open In Colab\"/></a>"
      ]
    },
    {
      "cell_type": "code",
      "execution_count": null,
      "metadata": {
        "id": "lPSD1UlBaVPF"
      },
      "outputs": [],
      "source": [
        "import torch\n",
        "import torchvision.transforms as transforms\n",
        "import torchvision.datasets as datasets\n",
        "import matplotlib.pyplot as plt\n",
        "import numpy as np"
      ]
    },
    {
      "cell_type": "code",
      "source": [
        "# Hyperparameters\n",
        "input_size = 32 * 32 * 3  # CIFAR-10 images are 32x32 with 3 channels\n",
        "hidden_size = 256\n",
        "num_classes = 10\n",
        "learning_rate = 0.01\n",
        "num_epochs = 10\n",
        "batch_size = 64"
      ],
      "metadata": {
        "id": "q58-PEoeaYDk"
      },
      "execution_count": null,
      "outputs": []
    },
    {
      "cell_type": "code",
      "source": [
        "def get_data_loaders():\n",
        "    transform = transforms.Compose([\n",
        "        transforms.ToTensor(),\n",
        "        transforms.Normalize((0.5,), (0.5,))\n",
        "    ])\n",
        "    train_dataset = datasets.CIFAR10(\n",
        "        root='./data', train=True, transform=transform, download=True\n",
        "    )\n",
        "    test_dataset = datasets.CIFAR10(\n",
        "        root='./data', train=False, transform=transform, download=True\n",
        "    )\n",
        "    train_loader = torch.utils.data.DataLoader(\n",
        "        dataset=train_dataset, batch_size=batch_size, shuffle=True\n",
        "    )\n",
        "    test_loader = torch.utils.data.DataLoader(\n",
        "        dataset=test_dataset, batch_size=batch_size, shuffle=False\n",
        "    )\n",
        "    return train_loader, test_loader"
      ],
      "metadata": {
        "id": "NF4Y3h8TabRa"
      },
      "execution_count": null,
      "outputs": []
    },
    {
      "cell_type": "code",
      "source": [
        "class FullyConnectedNN:\n",
        "    def __init__(self, input_size, hidden_size, num_classes):\n",
        "        # Manually initializing weights and biases\n",
        "        self.fc1_weight = torch.randn(hidden_size, input_size) * 0.01\n",
        "        self.fc1_bias   = torch.zeros(hidden_size)\n",
        "        self.fc2_weight = torch.randn(num_classes, hidden_size) * 0.01\n",
        "        self.fc2_bias   = torch.zeros(num_classes)\n",
        "\n",
        "    def relu(self, x):\n",
        "        return (x > 0).float() * x  # Elementwise ReLU"
      ],
      "metadata": {
        "id": "mmTt-AA-a63O"
      },
      "execution_count": null,
      "outputs": []
    },
    {
      "cell_type": "code",
      "source": [
        "############################################\n",
        "#           Training Function              #\n",
        "############################################\n",
        "def train_model(model, train_loader, device, lr=1e-3):\n",
        "    train_loss = 0.0\n",
        "    correct = 0\n",
        "    total = 0\n",
        "\n",
        "    for images, labels in train_loader:\n",
        "        # Move data to the device\n",
        "        images, labels = images.to(device), labels.to(device)\n",
        "        B = images.size(0)  # batch size\n",
        "\n",
        "        ################################################\n",
        "        # 1) Forward Pass (Manual)\n",
        "        ################################################\n",
        "        # Flatten input => shape: (B, 3072)\n",
        "        x = images.view(B, -1)\n",
        "\n",
        "        # First linear layer\n",
        "        z1 = x @ model.fc1_weight.T + model.fc1_bias  # (B, hidden_size)\n",
        "        # ReLU\n",
        "        a1 = model.relu(z1)                           # (B, hidden_size)\n",
        "\n",
        "        # Second linear layer => logits\n",
        "        logits = a1 @ model.fc2_weight.T + model.fc2_bias  # (B, num_classes)\n",
        "\n",
        "        ################################################\n",
        "        # 2) Softmax + Cross-Entropy (Manual)\n",
        "        ################################################\n",
        "        # Softmax\n",
        "        p = torch.exp(logits)\n",
        "        p = p / p.sum(dim=1, keepdim=True)  # shape: (B, num_classes)\n",
        "\n",
        "        # One-hot for ground-truth\n",
        "        one_hot = torch.zeros_like(p)  # shape: (B, num_classes)\n",
        "        one_hot[range(B), labels] = 1.0\n",
        "\n",
        "        # Cross-entropy loss (mean over batch)\n",
        "        loss_vector = - (one_hot * p.log()).sum(dim=1)  # shape: (B,)\n",
        "        loss = loss_vector.mean()                       # scalar\n",
        "\n",
        "        train_loss += loss.item()\n",
        "\n",
        "        ################################################\n",
        "        # 3) Zero out Gradients (no autograd)\n",
        "        ################################################\n",
        "        # Because we're doing manual grad, we ensure no stale grads.\n",
        "        # We'll compute them all in local variables below, so we skip storing in .grad.\n",
        "        # Just be sure we do param updates from local grads.\n",
        "\n",
        "        ################################################\n",
        "        # 4) Compute Gradients Manually\n",
        "        ################################################\n",
        "        # dLoss/dlogits => (B, C)\n",
        "        dlogits = (p - one_hot) / B\n",
        "\n",
        "        # dW2 => (C, H)\n",
        "        dW2 = dlogits.T @ a1\n",
        "        # db2 => (C,)\n",
        "        db2 = dlogits.sum(dim=0)\n",
        "\n",
        "        # da1 => (B, H)\n",
        "        da1 = dlogits @ model.fc2_weight\n",
        "\n",
        "        # dz1 (account for ReLU)\n",
        "        dz1 = da1 * (z1 > 0).float()\n",
        "\n",
        "        # dW1 => (H, D)\n",
        "        dW1 = dz1.T @ x\n",
        "        # db1 => (H,)\n",
        "        db1 = dz1.sum(dim=0)\n",
        "\n",
        "        ################################################\n",
        "        # 5) Gradient Descent Step\n",
        "        ################################################\n",
        "        # W1 = W1 - lr * dW1\n",
        "        model.fc1_weight -= lr * dW1\n",
        "        model.fc1_bias   -= lr * db1\n",
        "        model.fc2_weight -= lr * dW2\n",
        "        model.fc2_bias   -= lr * db2\n",
        "\n",
        "        ################################################\n",
        "        # 6) Accuracy for This Batch\n",
        "        ################################################\n",
        "        # predictions from logits (no softmax needed)\n",
        "        _, predicted = logits.max(dim=1)\n",
        "        total += labels.size(0)\n",
        "        correct += predicted.eq(labels).sum().item()\n",
        "\n",
        "    # Return average loss + accuracy\n",
        "    avg_loss = train_loss / (total // batch_size)\n",
        "    accuracy = 100.0 * correct / total\n",
        "    return avg_loss, accuracy"
      ],
      "metadata": {
        "id": "a80F8v5UP8rp"
      },
      "execution_count": null,
      "outputs": []
    },
    {
      "cell_type": "code",
      "source": [
        "############################################\n",
        "#         Evaluation Function              #\n",
        "############################################\n",
        "def evaluate_model(model, test_loader, device):\n",
        "    test_loss = 0.0\n",
        "    correct = 0\n",
        "    total = 0\n",
        "\n",
        "    with torch.no_grad():\n",
        "        for images, labels in test_loader:\n",
        "            images, labels = images.to(device), labels.to(device)\n",
        "            B = images.size(0)\n",
        "\n",
        "            # Forward pass\n",
        "            x = images.view(B, -1)\n",
        "            z1 = x @ model.fc1_weight.T + model.fc1_bias\n",
        "            a1 = model.relu(z1)\n",
        "            logits = a1 @ model.fc2_weight.T + model.fc2_bias\n",
        "\n",
        "            # Softmax\n",
        "            p = torch.exp(logits)\n",
        "            p = p / p.sum(dim=1, keepdim=True)\n",
        "\n",
        "            # One-hot\n",
        "            one_hot = torch.zeros_like(p)\n",
        "            one_hot[range(B), labels] = 1.0\n",
        "\n",
        "            # Cross-Entropy\n",
        "            loss_vector = - (one_hot * p.log()).sum(dim=1)\n",
        "            loss = loss_vector.mean()\n",
        "            test_loss += loss.item()\n",
        "\n",
        "            # Accuracy\n",
        "            _, predicted = logits.max(dim=1)\n",
        "            total += labels.size(0)\n",
        "            correct += predicted.eq(labels).sum().item()\n",
        "\n",
        "    avg_loss = test_loss / (total // batch_size)\n",
        "    accuracy = 100.0 * correct / total\n",
        "    return avg_loss, accuracy"
      ],
      "metadata": {
        "id": "7yqE0x-HbBQ8"
      },
      "execution_count": null,
      "outputs": []
    },
    {
      "cell_type": "code",
      "source": [
        "############################################\n",
        "#               Main Script                #\n",
        "############################################\n",
        "if __name__ == '__main__':\n",
        "    device = torch.device('cuda' if torch.cuda.is_available() else 'cpu')\n",
        "    train_loader, test_loader = get_data_loaders()\n",
        "\n",
        "    # Initialize model & move weights to device\n",
        "    model = FullyConnectedNN(input_size, hidden_size, num_classes)\n",
        "    model.fc1_weight = model.fc1_weight.to(device)\n",
        "    model.fc1_bias = model.fc1_bias.to(device)\n",
        "    model.fc2_weight = model.fc2_weight.to(device)\n",
        "    model.fc2_bias = model.fc2_bias.to(device)\n",
        "\n",
        "    train_losses, test_losses = [], []\n",
        "    train_accuracies, test_accuracies = [], []\n",
        "\n",
        "    for epoch in range(num_epochs):\n",
        "        train_loss, train_acc = train_model(model, train_loader, device, lr=learning_rate)\n",
        "        test_loss, test_acc = evaluate_model(model, test_loader, device)\n",
        "\n",
        "        train_losses.append(train_loss)\n",
        "        test_losses.append(test_loss)\n",
        "        train_accuracies.append(train_acc)\n",
        "        test_accuracies.append(test_acc)\n",
        "\n",
        "        print(\n",
        "          f\"Epoch [{epoch+1}/{num_epochs}]\\n\"\n",
        "          f\"  Train Loss: {train_loss:.4f}, Train Acc: {train_acc:.2f}%\\n\"\n",
        "          f\"  Test  Loss: {test_loss:.4f}, Test  Acc: {test_acc:.2f}%\\n\"\n",
        ")"
      ],
      "metadata": {
        "id": "NZ46aLVWbElq",
        "colab": {
          "base_uri": "https://localhost:8080/"
        },
        "outputId": "1e00df5a-6cf2-4506-e3be-fde6b1e589d3"
      },
      "execution_count": null,
      "outputs": [
        {
          "output_type": "stream",
          "name": "stdout",
          "text": [
            "Epoch [1/10]\n",
            "  Train Loss: 2.0135, Train Acc: 29.11%\n",
            "  Test  Loss: 1.8373, Test  Acc: 34.89%\n",
            "\n",
            "Epoch [2/10]\n",
            "  Train Loss: 1.7562, Train Acc: 38.26%\n",
            "  Test  Loss: 1.6960, Test  Acc: 40.27%\n",
            "\n",
            "Epoch [3/10]\n",
            "  Train Loss: 1.6525, Train Acc: 41.93%\n",
            "  Test  Loss: 1.6226, Test  Acc: 43.64%\n",
            "\n",
            "Epoch [4/10]\n",
            "  Train Loss: 1.5871, Train Acc: 44.34%\n",
            "  Test  Loss: 1.5735, Test  Acc: 45.37%\n",
            "\n",
            "Epoch [5/10]\n",
            "  Train Loss: 1.5387, Train Acc: 46.23%\n",
            "  Test  Loss: 1.5349, Test  Acc: 46.48%\n",
            "\n",
            "Epoch [6/10]\n",
            "  Train Loss: 1.4972, Train Acc: 47.82%\n",
            "  Test  Loss: 1.5047, Test  Acc: 47.72%\n",
            "\n",
            "Epoch [7/10]\n",
            "  Train Loss: 1.4605, Train Acc: 49.33%\n",
            "  Test  Loss: 1.4782, Test  Acc: 48.79%\n",
            "\n",
            "Epoch [8/10]\n",
            "  Train Loss: 1.4279, Train Acc: 50.24%\n",
            "  Test  Loss: 1.4617, Test  Acc: 49.40%\n",
            "\n",
            "Epoch [9/10]\n",
            "  Train Loss: 1.3972, Train Acc: 51.63%\n",
            "  Test  Loss: 1.4416, Test  Acc: 49.59%\n",
            "\n",
            "Epoch [10/10]\n",
            "  Train Loss: 1.3690, Train Acc: 52.56%\n",
            "  Test  Loss: 1.4283, Test  Acc: 50.60%\n",
            "\n"
          ]
        }
      ]
    },
    {
      "cell_type": "code",
      "source": [
        "# Plot results\n",
        "plt.figure(figsize=(12, 4))\n",
        "\n",
        "plt.subplot(1, 2, 1)\n",
        "plt.plot(range(1, num_epochs+1), train_losses, label='Train Loss')\n",
        "plt.plot(range(1, num_epochs+1), test_losses, label='Test Loss')\n",
        "plt.xlabel('Epochs')\n",
        "plt.ylabel('Loss')\n",
        "plt.legend()\n",
        "plt.title('Training and Test Loss')\n",
        "\n",
        "plt.subplot(1, 2, 2)\n",
        "plt.plot(range(1, num_epochs+1), train_accuracies, label='Train Accuracy')\n",
        "plt.plot(range(1, num_epochs+1), test_accuracies, label='Test Accuracy')\n",
        "plt.xlabel('Epochs')\n",
        "plt.ylabel('Accuracy (%)')\n",
        "plt.legend()\n",
        "plt.title('Training and Test Accuracy')\n",
        "\n",
        "plt.show()\n"
      ],
      "metadata": {
        "id": "iZCuz4iGbMQC",
        "colab": {
          "base_uri": "https://localhost:8080/",
          "height": 410
        },
        "outputId": "8dd3fac8-a0c5-4d9d-961a-328871460b3b"
      },
      "execution_count": null,
      "outputs": [
        {
          "output_type": "display_data",
          "data": {
            "text/plain": [
              "<Figure size 1200x400 with 2 Axes>"
            ],
            "image/png": "[encoded data removed]"
          },
          "metadata": {}
        }
      ]
    }
  ]
}